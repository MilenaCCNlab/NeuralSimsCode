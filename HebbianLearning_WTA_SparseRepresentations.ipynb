{
  "cells": [
    {
      "cell_type": "markdown",
      "metadata": {
        "id": "f0UUaL4N88Wi"
      },
      "source": [
        "Student ID: 3034963465"
      ]
    },
    {
      "cell_type": "code",
      "execution_count": null,
      "metadata": {
        "id": "AYuYSmPLJLUk"
      },
      "outputs": [],
      "source": [
        "import numpy as np \n",
        "import pandas as pd\n",
        "import matplotlib.pyplot as plt\n",
        "import os \n",
        "import random\n",
        "import copy"
      ]
    },
    {
      "cell_type": "code",
      "execution_count": null,
      "metadata": {
        "id": "MlbYv9JRiBEL"
      },
      "outputs": [],
      "source": [
        "import sys\n",
        "!{sys.executable} -m pip install mat73\n",
        "import mat73\n"
      ]
    },
    {
      "cell_type": "code",
      "execution_count": null,
      "metadata": {
        "id": "R4NZyIQ9izk7"
      },
      "outputs": [],
      "source": [
        "from google.colab import drive\n",
        "drive.mount('/content/gdrive')"
      ]
    },
    {
      "cell_type": "code",
      "execution_count": null,
      "metadata": {
        "id": "_B50cYMdi6BB"
      },
      "outputs": [],
      "source": [
        "datadir = \"/content/gdrive/MyDrive/NeuralComputation/\"\n",
        "dataset_2D = mat73.loadmat(datadir+'PS3_2D_datasets.mat')\n",
        "dataset_bars = mat73.loadmat(datadir+'PS3_bars_dataset.mat')\n",
        "dataset_faces = mat73.loadmat(datadir+'PS3_faces_dataset.mat')\n",
        "\n"
      ]
    },
    {
      "cell_type": "markdown",
      "metadata": {
        "id": "J8d9ktZj-Npo"
      },
      "source": [
        "# **Part 1: PCA and linear Hebbian learning**"
      ]
    },
    {
      "cell_type": "code",
      "execution_count": null,
      "metadata": {
        "id": "PXasMwCm8ydy"
      },
      "outputs": [],
      "source": [
        "\n",
        "fig, (ax1, ax2) = plt.subplots(1,2,figsize=(10, 10))\n",
        "fig.suptitle('Data')\n",
        "\n",
        "ax1.scatter(dataset_2D['gaussian'][0], dataset_2D['gaussian'][1])\n",
        "ax1.set_xlabel('X1')\n",
        "ax1.set_ylabel('X2')\n",
        "ax1.set_title('Gaussian')\n",
        "\n",
        "ax2.scatter(dataset_2D['nongaussian'][0], dataset_2D['nongaussian'][1])\n",
        "ax2.set_xlabel('X1')\n",
        "ax2.set_ylabel('X2')\n",
        "ax2.set_title('Non-gaussian')\n",
        "\n"
      ]
    },
    {
      "cell_type": "markdown",
      "metadata": {
        "id": "486HgRoqO2vk"
      },
      "source": [
        "i) gaussian data"
      ]
    },
    {
      "cell_type": "code",
      "execution_count": null,
      "metadata": {
        "id": "UTyPBW1I9J2C"
      },
      "outputs": [],
      "source": [
        "gaussian_data = dataset_2D['gaussian']\n",
        "training_iterations = 1500\n",
        "n_neurons = 2 # how many neurons \n",
        "learningRate = 0.0001 # should be really small \n",
        "weights = np.random.randn(2,2) # initialize weights\n"
      ]
    },
    {
      "cell_type": "code",
      "execution_count": null,
      "metadata": {
        "id": "0LoEw5Xv9WCk"
      },
      "outputs": [],
      "source": [
        "def sanger_learning_rule(x,w,lr,n_neurons):\n",
        "\n",
        "    y = w.T @ x # w * x, but for matrix muliplication     \n",
        "    x1 = x\n",
        "    delta_w = np.zeros(w.shape)\n",
        "    \n",
        "    for i in range(n_neurons):\n",
        "        \n",
        "        x1 = x1 - (w[:,i,None] @ y[None,i,:])\n",
        "        delta_w[:,i] = x1 @ y[i,:].T\n",
        "\n",
        "    w += delta_w*lr \n",
        "    \n",
        "    return w"
      ]
    },
    {
      "cell_type": "code",
      "execution_count": null,
      "metadata": {
        "id": "nKN4fks29Xzm"
      },
      "outputs": [],
      "source": [
        "ws = np.zeros((2,2))\n",
        "all_weights = np.tile(ws, (training_iterations,1,1))\n",
        "\n",
        "for i in range(training_iterations):\n",
        "  weights = sanger_learning_rule(gaussian_data,weights,learningRate,n_neurons)\n",
        "  all_weights[i]= weights\n",
        "\n",
        "weights\n"
      ]
    },
    {
      "cell_type": "code",
      "execution_count": null,
      "metadata": {
        "id": "Wc0ju-vH9auH"
      },
      "outputs": [],
      "source": [
        "\n",
        "indices = [0,int(training_iterations/2),training_iterations-1]\n",
        "idx = 2\n",
        "idx_to_plot = indices[idx]\n",
        "titles = ['Initial','Partway','Final']\n",
        "\n",
        "\n",
        "fig = plt.subplots(figsize=(8, 8))\n",
        "plt.scatter(gaussian_data[0],gaussian_data[1])\n",
        "plt.xlabel('X1')\n",
        "plt.ylabel('X2')\n",
        "plt.title(titles[idx])\n",
        "for i in range(n_neurons):\n",
        "    plt.plot([0,all_weights[idx_to_plot][0,i]],[0,all_weights[idx_to_plot][1,i]],'k',linewidth=4,alpha=0.8);\n"
      ]
    },
    {
      "cell_type": "markdown",
      "metadata": {
        "id": "qUNHmsBeO5sG"
      },
      "source": [
        "ii) non-gaussian data"
      ]
    },
    {
      "cell_type": "code",
      "execution_count": null,
      "metadata": {
        "id": "x615K8br9e5h"
      },
      "outputs": [],
      "source": [
        "non_gaussian_data = dataset_2D['nongaussian']\n",
        "training_iterations = 1500 # has to be really high\n",
        "n_neurons = 2 # how many neurons \n",
        "learningRate = 0.0001 # should be really small \n",
        "weights = np.random.randn(2,2) # initialize weights\n",
        "\n",
        "\n",
        "ws = np.zeros((2,2))\n",
        "all_weights = np.tile(ws, (training_iterations,1,1))\n",
        "\n",
        "for i in range(training_iterations):\n",
        "  weights = sanger_learning_rule(non_gaussian_data,weights,learningRate,n_neurons)\n",
        "  all_weights[i]= weights\n",
        "\n"
      ]
    },
    {
      "cell_type": "code",
      "execution_count": null,
      "metadata": {
        "id": "JXeq30X19hF5"
      },
      "outputs": [],
      "source": [
        "indices = [0,int(training_iterations/2),training_iterations-1]\n",
        "idx = 2\n",
        "idx_to_plot = indices[idx]\n",
        "titles = ['Initial','Partway','Final']\n",
        "\n",
        "fig = plt.subplots(figsize=(8, 8))\n",
        "plt.scatter(non_gaussian_data[0],non_gaussian_data[1])\n",
        "plt.xlabel('X1')\n",
        "plt.ylabel('X2')\n",
        "plt.title(titles[idx])\n",
        "for i in range(n_neurons):\n",
        "    plt.plot([0,all_weights[idx_to_plot][0,i]],[0,all_weights[idx_to_plot][1,i]],'k',linewidth=4,alpha=0.8);\n"
      ]
    },
    {
      "cell_type": "code",
      "execution_count": null,
      "metadata": {
        "id": "cyKCMpua9jao"
      },
      "outputs": [],
      "source": [
        "# synthesize data \n",
        "y = weights.T @ non_gaussian_data\n",
        "\n",
        "pc1 = np.random.normal(y[0].mean(), np.sqrt(y[0].var()), 1000)\n",
        "pc2 = np.random.normal(y[1].mean(), np.sqrt(y[1].var()), 1000)\n",
        "gaussians = np.array([pc1,pc2])\n",
        "\n",
        "synthesize = weights.T @ gaussians\n",
        "\n",
        "figure = plt.subplots(figsize=[5,5])\n",
        "plt.scatter(synthesize[0],synthesize[1])\n",
        "plt.xlabel('X1')\n",
        "plt.ylabel('X2')\n",
        "plt.title('data synthesis')"
      ]
    },
    {
      "cell_type": "markdown",
      "metadata": {
        "id": "ZpzlKG-hO8qt"
      },
      "source": [
        "iii) faces"
      ]
    },
    {
      "cell_type": "code",
      "execution_count": null,
      "metadata": {
        "id": "R6j1bOlwekwr"
      },
      "outputs": [],
      "source": [
        "# Plot subset of original faces from the dataset \n",
        "\n",
        "\n",
        "numfaces=len(dataset_faces['faces'])\n",
        "num_inputs_per_face=len(dataset_faces['faces'][0].flatten())\n",
        "subset_faces = [6,8,10] #random images to be plotted\n",
        "face_data_subset=np.empty([len(subset_faces), num_inputs_per_face]) \n",
        "\n",
        "\n",
        "for i in range(len(subset_faces)):\n",
        "  face_data_subset[i]=dataset_faces['faces'][subset_faces[i]].flatten()\n",
        "  plt.subplot(1,len(subset_faces),i+1)\n",
        "  plt.imshow(face_data_subset[i].reshape(37,28))\n",
        "\n"
      ]
    },
    {
      "cell_type": "code",
      "execution_count": null,
      "metadata": {
        "id": "a_Lmh4wbp8LT"
      },
      "outputs": [],
      "source": [
        "# train sanger rule \n",
        "\n",
        "def sanger_Learn_Faces(x,weights,lr):\n",
        "    \n",
        "    y = weights.T @ x     \n",
        "    x1 = x\n",
        "    delta_weight = np.zeros(weights.shape)\n",
        "    \n",
        "    for i in range(y.shape[0]):\n",
        "        \n",
        "        x1 = x1 - (weights[:,i,None] @ y[None,i,:])\n",
        "        delta_weight[:,i] = x1 @ y[i,:].T\n",
        "\n",
        "    weights += delta_weight*lr \n",
        "    return weights\n",
        "\n",
        "face_data=np.empty([numfaces, num_inputs_per_face]) \n",
        "\n",
        "for i in range(len(face_data)):\n",
        "  face_data[i]=dataset_faces['faces'][i].flatten()\n",
        "\n",
        "face_data = face_data - np.atleast_2d(np.mean(face_data,1)).T\n",
        "\n",
        "\n",
        "dataset = face_data.T\n",
        "numOutputs = 5\n",
        "numInputs,numDatapoints = dataset.shape\n",
        "learningRate = 1e-9#1e-10\n",
        "weights = np.random.random([numInputs,numOutputs]) \n",
        "numSteps = 500\n",
        "\n",
        "for i in range(numSteps):\n",
        "    weights = sanger_Learn_Faces(dataset,weights,learningRate)\n"
      ]
    },
    {
      "cell_type": "code",
      "execution_count": null,
      "metadata": {
        "id": "tLFrmwJ8ygr6"
      },
      "outputs": [],
      "source": [
        "# show network encoding \n",
        "plt.figure(figsize=(20,6))\n",
        "\n",
        "for i in range(numOutputs):\n",
        "    plt.subplot(1,numOutputs,i+1)\n",
        "    plt.imshow(weights[:,i].reshape(37,28))\n"
      ]
    },
    {
      "cell_type": "code",
      "execution_count": null,
      "metadata": {
        "id": "zYdajz4WqDfs"
      },
      "outputs": [],
      "source": [
        "face_data=np.empty([numfaces, num_inputs_per_face]) \n",
        "for i in range(len(face_data)):\n",
        "  face_data[i]=dataset_faces['faces'][i].flatten() \n",
        "div=1\n",
        "face_avg = np.mean(face_data,0)\n",
        "face_idx = 10\n",
        "selected_face = dataset[:,face_idx,None]\n",
        "y = weights.T/div @ selected_face\n",
        "reconstructed = (weights/div @ y)+face_avg[:,None] \n",
        "plt.imshow(reconstructed.reshape(37,28))\n"
      ]
    },
    {
      "cell_type": "markdown",
      "metadata": {
        "id": "NyHSE8drmc6P"
      },
      "source": [
        "synthesis"
      ]
    },
    {
      "cell_type": "code",
      "source": [
        "num_imgs = 10\n",
        "\n",
        "fig, ax = plt.subplots(2,5,figsize=(18,10))\n",
        "\n",
        "for i in np.arange(num_imgs):   \n",
        "    \n",
        "    n_neurons = 5\n",
        "    random_input = np.random.uniform(1,256, size=[1036,1])\n",
        "    synthesized_img = np.ones([1036,1])\n",
        "    \n",
        "    for n in np.arange(n_neurons):\n",
        "        y    = np.dot(random_input.T,weights[:,n,None])\n",
        "        y_sample = np.random.normal(0,np.sqrt(np.abs(y)))\n",
        "        synthesized_img += weights[:,n,None]*y_sample\n",
        "\n",
        "    ax[(i >= 5)*1, i%5].imshow(synthesized_img.reshape([37,28]))\n",
        "   \n",
        "\n",
        "plt.show()"
      ],
      "metadata": {
        "id": "7V4Oo3Ytx9i1"
      },
      "execution_count": null,
      "outputs": []
    },
    {
      "cell_type": "markdown",
      "metadata": {
        "id": "DixRt70i9r4C"
      },
      "source": [
        "# **Part 2: Winner-take-all**"
      ]
    },
    {
      "cell_type": "code",
      "execution_count": null,
      "metadata": {
        "id": "IBOJ6ETO_n7b"
      },
      "outputs": [],
      "source": [
        "def Winner_take_all_learning(x,w,lr,n_neurons):\n",
        "    \n",
        "    y = w @ x \n",
        "    win_idx = np.argmax(y,axis=0) \n",
        "    \n",
        "    for i in range(n_neurons):\n",
        "        win_mask = np.equal(i,win_idx)\n",
        "        w[i,:,None] += lr*((x - w [i,:,None]) @ win_mask[:,None])\n",
        "        \n",
        "    return weights\n",
        "\n",
        "n_neurons = 4\n",
        "learning_rate = 0.004\n",
        "data = non_gaussian_data\n",
        "weights = np.random.random([n_neurons,data.shape[0]]) \n",
        "\n",
        "\n",
        "\n",
        "for i in range(300):\n",
        "  weights = Winner_take_all_learning(data,weights,learning_rate,n_neurons)\n",
        "\n",
        "\n",
        "fig = plt.subplots(figsize=(8, 8))\n",
        "plt.scatter(non_gaussian_data[0],non_gaussian_data[1])\n",
        "plt.xlabel('X1')\n",
        "plt.ylabel('X2')\n",
        "plt.title('wta')\n",
        "\n",
        "for i in range(n_neurons):\n",
        "    plt.plot([0,weights[i,0]],[0,weights[i,1]],'k',linewidth=4,alpha=0.8);\n",
        "\n"
      ]
    },
    {
      "cell_type": "markdown",
      "metadata": {
        "id": "uSRPotHELa-4"
      },
      "source": [
        "ii) implement wta with faces"
      ]
    },
    {
      "cell_type": "code",
      "execution_count": null,
      "metadata": {
        "id": "WN92c0l9T08U"
      },
      "outputs": [],
      "source": [
        "def Winner_take_all_learning_faces(dataset,weights,lr):\n",
        "\n",
        "    y = weights.T @ dataset\n",
        "    delta_w = np.zeros(weights.shape)\n",
        "    win_idx = np.argmax(y,axis=0) \n",
        "\n",
        "    for i in range(y.shape[0]):\n",
        "        delta_w[:,i,None] = lr*((dataset - weights [:,i,None]) @ np.equal(i,win_idx)[:,None])\n",
        "    \n",
        "    weights += delta_w\n",
        "    return weights\n",
        "\n",
        "\n",
        "face_data=np.empty([numfaces, num_inputs_per_face]) \n",
        "\n",
        "for i in range(len(face_data)):\n",
        "  face_data[i]=dataset_faces['faces'][i].flatten() #-np.mean(dataset_faces['faces'][i].flatten())\n",
        "face_data = face_data - np.atleast_2d(np.mean(face_data,1)).T\n",
        "\n",
        "dataset = face_data.T\n",
        "n_neurons = 40\n",
        "n_inputs_per_image,n_faces = dataset.shape\n",
        "lr =.17\n",
        "weights = np.random.randn(n_inputs_per_image,n_neurons) \n",
        "\n",
        "numSteps = 75#150 & 0.12 or .11 and something idk \n",
        "# reduceFactor = .01\n",
        "for i in range(numSteps):\n",
        "    weights = Winner_take_all_learning_faces(dataset,weights,lr)\n",
        "    # reduceFactor += .000001 # in case we want to reduce learning rate as training goes, but doesn't really seem to help.\n",
        "\n",
        "\n",
        "plt.figure(figsize=(20,8))\n",
        "for i in range(n_neurons):\n",
        "    plt.subplot(4,n_neurons//4+n_neurons%2,i+1)\n",
        "    neuronimg = weights[:,i]\n",
        "    neuronimg = neuronimg.reshape(37,28)\n",
        "    plt.imshow(neuronimg)\n"
      ]
    },
    {
      "cell_type": "code",
      "execution_count": null,
      "metadata": {
        "id": "qI40hb7g1_re"
      },
      "outputs": [],
      "source": [
        "# reconstruction \n",
        "face_data=np.empty([numfaces, num_inputs_per_face]) \n",
        "for i in range(len(face_data)):\n",
        "  face_data[i]=dataset_faces['faces'][i].flatten() \n",
        "face_avg = np.mean(face_data,0)\n",
        "face_idx =8\n",
        "\n",
        "fws=weights\n",
        "\n",
        "plt.figure(figsize=(20,8))\n",
        "\n",
        "for i in range(n_neurons):\n",
        "    \n",
        "    y = fws[:,0:i+1].T @ selected_face\n",
        "\n",
        "    reconstructed = (fws[:,0:i+1] @ y)+face_avg[:,None] \n",
        "\n",
        "    plt.subplot(4,n_neurons//4+n_neurons%2,i+1)\n",
        "    plt.imshow(reconstructed.reshape(37,28))\n",
        "    \n"
      ]
    },
    {
      "cell_type": "markdown",
      "metadata": {
        "id": "vxmTTgRp933z"
      },
      "source": [
        "# **Part 3: Foldiak sparse representations**"
      ]
    },
    {
      "cell_type": "code",
      "execution_count": null,
      "metadata": {
        "id": "8vfCTWYUGTtz"
      },
      "outputs": [],
      "source": [
        "def foldiak_rule(x, q, w, t, numtrials):\n",
        "\n",
        "\n",
        "    y = np.zeros((q.shape[1], x.shape[1])) \n",
        "    get_output = np.zeros((q.shape[1], x.shape[1]))\n",
        "    unit_activations = q.T @ x\n",
        "    \n",
        "    for trial in range(numtrials):\n",
        "        delta_y = sigmoid(unit_activations + w.T @ y - t[:, None],1) - y\n",
        "        y += delta_t * delta_y\n",
        "\n",
        "    # according to foldiak paper we need to look for values greater than 0.5 \n",
        "    get_output[np.where(y>0.5)] = 1\n",
        "    \n",
        "    return get_output\n",
        "\n",
        "\n",
        "\n",
        "def foldiak_weight_updates(x, y, q, w, t, alpha, beta, gamma):\n",
        "    act = np.mean(y, axis=1)\n",
        "    between_unit_correlation = y @ y.T / x.shape[1]\n",
        "    input_output_correlation = x @ y.T / x.shape[1]\n",
        "    \n",
        "    # update lateral weights and remove the diagonals (where i == j ) so that the units don't inhibit themselves, but just other neurons. \n",
        "    w +=  -alpha * (between_unit_correlation - p**2)\n",
        "    w -= np.diag(np.diag(w))\n",
        "    w[np.where(w>0)] = 0\n",
        "    \n",
        "    #update threshold and forward weights\n",
        "    q += beta * (input_output_correlation - q * act)\n",
        "    t += gamma * (act - p)\n",
        "    \n",
        "    return (q, w, t)"
      ]
    },
    {
      "cell_type": "code",
      "execution_count": null,
      "metadata": {
        "id": "NIchPGcQqsdb"
      },
      "outputs": [],
      "source": [
        "delta_t = 0.001 \n",
        "numtrials = 1000 \n",
        "numtrials_1 = 1000 \n",
        "\n",
        "p = 1/8\n",
        "\n",
        "#learning rates from the paper\n",
        "alpha = 0.1 # lateral weights learning rate\n",
        "beta = 0.05 # feedforward weights \n",
        "gamma = 0.1 # thresholds\n",
        "\n",
        "n_neurons = 16\n",
        "\n",
        "lambda_sigmoid = 10\n",
        "numpixels = 8*8 # number of inputs/pixels per image\n",
        "\n",
        "q = np.random.randn(numpixels, n_neurons) # feed forward weights\n",
        "w = np.zeros((n_neurons, n_neurons)) # lateral weights \n",
        "t = np.ones((n_neurons)) # thresholds\n",
        "\n",
        "\n",
        "def sigmoid(data,lambda_sigmoid):\n",
        "    return 1.0 / (1.0 + np.exp(-lambda_sigmoid*data))\n",
        "\n",
        "bars_data=np.empty([len(dataset_bars['bars']), numpixels]) \n",
        "\n",
        "for i in range(len(dataset_bars['bars'])):\n",
        "  bars_data[i] = dataset_bars['bars'][i].flatten()\n",
        "\n",
        "bardata = bars_data.T\n",
        "for trial in range(numtrials):\n",
        "    print(trial)\n",
        "    \n",
        "    output = foldiak_rule(bardata, q, w, t, numtrials_1)    \n",
        "    (q, w, t) = foldiak_weight_updates(bardata, output, q, w, t, alpha, beta, gamma)\n",
        "   \n"
      ]
    },
    {
      "cell_type": "code",
      "execution_count": null,
      "metadata": {
        "id": "CIunUXRNs69c"
      },
      "outputs": [],
      "source": [
        "fig, axs = plt.subplots(2, 8, figsize=(12, 8))\n",
        "fig.suptitle('Feedforward weights')\n",
        "\n",
        "for i in range(n_neurons):\n",
        "\n",
        "    fw_weights=q[:,i]\n",
        "\n",
        "    plt.subplot(2,n_neurons//2+n_neurons%2,i+1)\n",
        "    plt.imshow(fw_weights.reshape(8,8),cmap='gray')\n",
        "\n",
        "\n"
      ]
    },
    {
      "cell_type": "code",
      "execution_count": null,
      "metadata": {
        "id": "8vFEpEbJT0uq"
      },
      "outputs": [],
      "source": [
        "fig, axs = plt.subplots(figsize=(12, 8))\n",
        "plt.bar(np.arange(t.shape[0]),t)\n",
        "plt.ylabel('thresholds')\n",
        "plt.xlabel('neurons')\n"
      ]
    },
    {
      "cell_type": "code",
      "execution_count": null,
      "metadata": {
        "id": "YYhn89SCU8wC"
      },
      "outputs": [],
      "source": [
        "fig, axs = plt.subplots(figsize=(8, 8))\n",
        "plt.imshow(w,cmap='gray')\n",
        "plt.title('lateral weights')"
      ]
    }
  ],
  "metadata": {
    "colab": {
      "provenance": []
    },
    "kernelspec": {
      "display_name": "Python 3",
      "name": "python3"
    },
    "language_info": {
      "name": "python"
    }
  },
  "nbformat": 4,
  "nbformat_minor": 0
}