{
  "nbformat": 4,
  "nbformat_minor": 0,
  "metadata": {
    "colab": {
      "provenance": []
    },
    "kernelspec": {
      "name": "python3",
      "display_name": "Python 3"
    },
    "language_info": {
      "name": "python"
    }
  },
  "cells": [
    {
      "cell_type": "markdown",
      "source": [
        "Student ID: 3034963465"
      ],
      "metadata": {
        "id": "G6EgcOnAhB4O"
      }
    },
    {
      "cell_type": "code",
      "execution_count": null,
      "metadata": {
        "id": "a4YLkxsVgeQy"
      },
      "outputs": [],
      "source": [
        "import numpy as np\n",
        "import pandas as pd \n",
        "import matplotlib.pyplot as plt \n",
        "from tqdm import tqdm\n",
        "import skimage\n",
        "import skimage.data\n",
        "from skimage.color import rgb2gray\n",
        "from skimage.filters import threshold_mean\n",
        "from skimage.transform import resize\n",
        "import math\n"
      ]
    },
    {
      "cell_type": "code",
      "source": [
        "import sys\n",
        "!{sys.executable} -m pip install mat73\n",
        "import mat73\n"
      ],
      "metadata": {
        "id": "Mkrj5YhnqtaS"
      },
      "execution_count": null,
      "outputs": []
    },
    {
      "cell_type": "code",
      "source": [
        "import sys\n",
        "!{sys.executable} -m pip install pynverse\n",
        "import pynverse\n",
        "from pynverse import inversefunc\n"
      ],
      "metadata": {
        "id": "H_jqcTXDkGmI"
      },
      "execution_count": null,
      "outputs": []
    },
    {
      "cell_type": "code",
      "source": [
        "from google.colab import drive\n",
        "drive.mount('/content/gdrive')"
      ],
      "metadata": {
        "id": "sod4MHhPqxfE"
      },
      "execution_count": null,
      "outputs": []
    },
    {
      "cell_type": "code",
      "source": [
        "datadir = \"/content/gdrive/MyDrive/NeuralComputation/\"\n",
        "dataset = mat73.loadmat(datadir+'PS4_patterns.mat')\n",
        "patterns = dataset['patterns']\n"
      ],
      "metadata": {
        "id": "zssGlpQwqzjj"
      },
      "execution_count": null,
      "outputs": []
    },
    {
      "cell_type": "code",
      "source": [
        "figure,axes = plt.subplots(1,3, figsize = (8,8))\n",
        "axes[0].imshow(patterns[0])\n",
        "axes[1].imshow(patterns[1])\n",
        "axes[2].imshow(patterns[2])\n"
      ],
      "metadata": {
        "id": "fss3vv3arAwG"
      },
      "execution_count": null,
      "outputs": []
    },
    {
      "cell_type": "code",
      "source": [
        "pats = np.zeros((patterns.shape[0],patterns.shape[1]*patterns.shape[2]))\n",
        "for i in range(patterns.shape[0]):\n",
        "  pats[i]=patterns[i].flatten()"
      ],
      "metadata": {
        "id": "uA8itSObDzj1"
      },
      "execution_count": null,
      "outputs": []
    },
    {
      "cell_type": "markdown",
      "source": [
        "# **Part 1: Hopfield Network**"
      ],
      "metadata": {
        "id": "5tHjqnZ_MRlh"
      }
    },
    {
      "cell_type": "markdown",
      "source": [
        "i) "
      ],
      "metadata": {
        "id": "jpugqgN3jVl4"
      }
    },
    {
      "cell_type": "code",
      "source": [
        "def store_img_in_weights(X):\n",
        "    print(\"Store images in weight matrix\")\n",
        "    n_data =  len(X)\n",
        "    n_neuron = X[0].shape[0]\n",
        "        \n",
        "    # initialize weights\n",
        "    weights = np.zeros((n_neuron, n_neuron))\n",
        "        \n",
        "    # apply hebbian learning\n",
        "    for i in tqdm(range(n_data)):\n",
        "        weights += np.outer(X[i], X[i])\n",
        "        \n",
        "    # diagonal needs to be 0\n",
        "    diagonalW = np.diag(np.diag(weights))\n",
        "    weights = weights - diagonalW\n",
        "        \n",
        "    return weights,n_neuron\n",
        "\n",
        "# energy function -- used to determine when to stop training!\n",
        "def energy(s,W):\n",
        "  return -0.5 * s @ W @ s \n",
        "\n",
        "\n",
        "def update_state(initial_state, weights, iterations, n_neurons):\n",
        "  state = initial_state\n",
        "  e = energy(state,weights)\n",
        "  # iterate\n",
        "  store_iteration_states =[]\n",
        "  for i in range(iterations):\n",
        "    for j in range(100):\n",
        "      # start with some random neuron;\n",
        "      neuron_index = np.random.randint(0, n_neurons) \n",
        "      # state update\n",
        "      state[neuron_index] = np.sign(weights[neuron_index].T @ state)\n",
        "      store_iteration_states.append(state)\n",
        "    # Compute new state energy\n",
        "    e_iter = energy(state,weights)\n",
        "    if i == iterations/2:\n",
        "      midway_pattern = state    \n",
        "    # if equillibrium - return state\n",
        "    if e == e_iter:\n",
        "        midway_pattern = store_iteration_states[int(np.round(i/2))]\n",
        "        return state,midway_pattern\n",
        "    # if not equillibrium update energy and continue iterating \n",
        "    e = e_iter\n",
        "\n",
        "\n",
        "  return state, midway_pattern\n",
        "\n",
        "\n",
        "def predict_pattern(X, weights, n_iters, n_neuron):\n",
        "  X_copy = np.copy(X)\n",
        "  predicted_patterns = []\n",
        "  midway_patterns_all = []\n",
        "  for i in tqdm(range(len(X))):\n",
        "      final_patterns, midway_pattern = update_state(X_copy[i],weights,n_iters,n_neuron)\n",
        "      predicted_patterns.append(final_patterns)\n",
        "      midway_patterns_all.append(midway_pattern)\n",
        "\n",
        "  return predicted_patterns,midway_patterns_all\n",
        "\n"
      ],
      "metadata": {
        "id": "1oNCsDa46cqR"
      },
      "execution_count": null,
      "outputs": []
    },
    {
      "cell_type": "code",
      "source": [
        "def corrupt(img, pct_corrupt):\n",
        "    corrupted_img = np.copy(img)\n",
        "    inv = np.random.binomial(n=1, p=pct_corrupt, size=len(img))\n",
        "    for i, v in enumerate(img):\n",
        "        if inv[i]:\n",
        "            corrupted_img[i] = -1 * v\n",
        "    return corrupted_img\n",
        "\n",
        "\n",
        "\n",
        "def plot_results(X, corrupted_pattern, predicted_pattern, figsize=(5, 6)):\n",
        "    X = [d.reshape(10,10) for d in X]\n",
        "    corrupted_pattern = [d.reshape(10,10) for d in corrupted_pattern]\n",
        "    predicted_pattern = [d.reshape(10,10) for d in predicted_pattern]\n",
        "\n",
        "    fig, axes = plt.subplots(len(X), 3, figsize=figsize)\n",
        "    for i in range(len(X)):\n",
        "        if i==0:\n",
        "            # set titles for each column in the plot\n",
        "            axes[i, 0].set_title('Data patterns')\n",
        "            axes[i, 1].set_title(\"Corrupted patterns\")\n",
        "            axes[i, 2].set_title('Predicted patterns')\n",
        "\n",
        "        axes[i, 0].imshow(X[i])\n",
        "        axes[i, 0].axis('off')\n",
        "        axes[i, 1].imshow(corrupted_pattern[i])\n",
        "        axes[i, 1].axis('off')\n",
        "        axes[i, 2].imshow(predicted_pattern[i])\n",
        "        axes[i, 2].axis('off')\n",
        "\n",
        "    plt.show()\n",
        "\n",
        "\n",
        "weights,n_neuron  = store_img_in_weights(pats)\n",
        "corrupted_pats = [corrupt(d, 0.50) for d in list(pats)]\n",
        "num_iter=50\n",
        "predicted_pats,midway_patterns_all = predict_pattern(corrupted_pats, weights, num_iter, n_neuron)\n"
      ],
      "metadata": {
        "id": "hnk-UamSy8zT"
      },
      "execution_count": null,
      "outputs": []
    },
    {
      "cell_type": "code",
      "source": [
        "plot_results(list(pats), corrupted_pats, predicted_pats)"
      ],
      "metadata": {
        "id": "DFOU0iHpEHQU"
      },
      "execution_count": null,
      "outputs": []
    },
    {
      "cell_type": "code",
      "source": [
        "figure,axes = plt.subplots(1,3, figsize = (6,4))\n",
        "figure.suptitle('Initial')\n",
        "axes[0].imshow(corrupted_pats[0].reshape(10,10))\n",
        "axes[1].imshow(corrupted_pats[1].reshape(10,10))\n",
        "axes[2].imshow(corrupted_pats[2].reshape(10,10))\n"
      ],
      "metadata": {
        "id": "n-TRCV6deX5U"
      },
      "execution_count": null,
      "outputs": []
    },
    {
      "cell_type": "code",
      "source": [
        "figure,axes = plt.subplots(1,3, figsize = (6,4))\n",
        "figure.suptitle('Midway training')\n",
        "\n",
        "axes[0].imshow(midway_patterns_all[0].reshape(10,10))\n",
        "axes[1].imshow(midway_patterns_all[1].reshape(10,10))\n",
        "axes[2].imshow(midway_patterns_all[2].reshape(10,10))\n"
      ],
      "metadata": {
        "id": "tra-SvdxEHVj"
      },
      "execution_count": null,
      "outputs": []
    },
    {
      "cell_type": "code",
      "source": [
        "figure,axes = plt.subplots(1,3, figsize = (6,4))\n",
        "figure.suptitle('Final training', fontsize=16)\n",
        "\n",
        "axes[0].imshow(predicted_pats[0].reshape(10,10))\n",
        "axes[1].imshow(predicted_pats[1].reshape(10,10))\n",
        "axes[2].imshow(predicted_pats[2].reshape(10,10))\n"
      ],
      "metadata": {
        "id": "FyLFkHNCeLu0"
      },
      "execution_count": null,
      "outputs": []
    },
    {
      "cell_type": "markdown",
      "source": [
        "ii)"
      ],
      "metadata": {
        "id": "zn4kWbR3XxJh"
      }
    },
    {
      "cell_type": "code",
      "source": [
        "def create_random_patterns(number_of_patterns,number_of_bits_per_pattern, p_bit):\n",
        "    return 2 * np.random.binomial(1, p_bit, size=(number_of_patterns, number_of_bits_per_pattern)) - 1\n",
        "\n",
        "\n",
        "def compare_initial_and_converged_states(init_state, converged_state,dim):\n",
        "  \n",
        "    init_state = init_state/dim \n",
        "    converged_state = converged_state/dim \n",
        "    check_converge = abs(converged_state @ init_state.T).max(axis=1)\n",
        "    n_good = np.isclose(check_converge, np.ones_like(check_converge)).sum()\n",
        "\n",
        "    return converged_state.shape[0], n_good\n",
        "\n",
        "\n",
        "number_of_patterns = [1,2,3,4,5,6,7,8,9,10]\n",
        "number_of_bits_per_pattern = 100\n",
        "p_bit = 0.3\n",
        "\n",
        "iterations=10\n",
        "all_pats_corr = []\n",
        "for i in range(len(number_of_patterns)):\n",
        "  pct_corr=[]\n",
        "  for n in range(iterations):\n",
        "    \n",
        "    generated_patterns = create_random_patterns(number_of_patterns[i],number_of_bits_per_pattern, p_bit)\n",
        "    weights,n_neuron  = store_img_in_weights(generated_patterns)\n",
        "    predicted_pats_generated,midway_patterns_all_generated = predict_pattern(list(generated_patterns), weights, num_iter, n_neuron)\n",
        "\n",
        "    number_initial, number_good = compare_initial_and_converged_states(np.atleast_2d(generated_patterns).astype(float), np.atleast_2d(predicted_pats_generated).astype(float),np.sqrt(number_of_bits_per_pattern))\n",
        "    pct_corr.append(number_good/number_initial)\n",
        "  all_pats_corr.append(np.mean(pct_corr))\n",
        "  \n",
        "    \n"
      ],
      "metadata": {
        "id": "166iQrjcEHaC"
      },
      "execution_count": null,
      "outputs": []
    },
    {
      "cell_type": "code",
      "source": [
        "all_pats_corr"
      ],
      "metadata": {
        "id": "BMNpqrWWwgAP"
      },
      "execution_count": null,
      "outputs": []
    },
    {
      "cell_type": "code",
      "source": [
        "figure,ax = plt.subplots(1,1,figsize=(6,6))\n",
        "plt.plot(np.arange(0,len(number_of_patterns)),1-np.array(all_pats_corr))\n",
        "plt.axhline(y=0.5, color='r', linestyle='-')\n",
        "plt.xlabel('number of patterns')\n",
        "plt.ylabel('% errors')\n",
        "ax.set_xticks(number_of_patterns)\n"
      ],
      "metadata": {
        "id": "VyfpreJ5w0GJ"
      },
      "execution_count": null,
      "outputs": []
    },
    {
      "cell_type": "code",
      "source": [
        "len(np.arange(0,2*math.pi,0.063))"
      ],
      "metadata": {
        "id": "Gjmj4V7sOcfU"
      },
      "execution_count": null,
      "outputs": []
    },
    {
      "cell_type": "markdown",
      "source": [
        "# **Part 2: Ring Attractor Network**"
      ],
      "metadata": {
        "id": "pkpVpB26j4KP"
      }
    },
    {
      "cell_type": "code",
      "source": [
        "# tuning curve \n",
        "A = 1\n",
        "K = 8 \n",
        "B = (40-1)/np.exp(K)\n",
        "thetas = np.arange(0,2*math.pi,0.063)\n",
        "theta0 = math.pi\n",
        "f = []\n",
        "\n",
        "def tuning_curve_fun(A,B,K,theta0,theta):\n",
        "  angleDiff = np.cos(theta0-theta)\n",
        "  return A+B*(np.exp(angleDiff*K))\n",
        "\n",
        "\n",
        "for i,theta in enumerate(thetas):\n",
        "  f.append(tuning_curve_fun(A,B,K,theta0,theta))\n",
        "\n",
        "f = np.array(f)\n",
        "figure = plt.figure(figsize=(6,6))\n",
        "plt.plot(thetas-3.14,f)\n",
        "plt.xlabel('theta - theta_0')\n",
        "plt.ylabel('firing rate')"
      ],
      "metadata": {
        "id": "soyFrN2KKukj"
      },
      "execution_count": null,
      "outputs": []
    },
    {
      "cell_type": "code",
      "source": [
        "# sigmoid\n",
        "beta = 0.8\n",
        "b = 10\n",
        "c = 0.5\n",
        "a = 6.34\n",
        "theta0 = math.pi\n",
        "xx= np.array(f)\n",
        "\n",
        "def sigma_fun(x):\n",
        "  var = 1+np.exp(b*(x+c))\n",
        "  return a*(np.log(var)**beta)\n",
        "\n",
        "theta_f = sigma_fun(thetas-theta0)\n",
        "# plt.plot(thetas-theta0,theta_f)\n",
        "\n",
        "\n",
        "inverse_sigma_fun=inversefunc(sigma_fun)\n",
        "\n",
        "fig,axes = plt.subplots(1,2,figsize=(6,4))\n",
        "axes[0].plot(thetas-theta0,theta_f)\n",
        "axes[0].set_title('sigma')\n",
        "axes[1].plot(thetas-theta0,inverse_sigma_fun(thetas-theta0))\n",
        "axes[1].set_title('inverse_sigma')\n"
      ],
      "metadata": {
        "id": "02bm5AARLBLg"
      },
      "execution_count": null,
      "outputs": []
    },
    {
      "cell_type": "code",
      "source": [
        "fig = plt.figure(figsize=(6,6))\n",
        "plt.plot(f,'r',label=\"f\")\n",
        "plt.plot(sigma_fun(inverse_sigma_fun(f)),'b--',label=\"sigma(sigma^-1(f))\")\n",
        "plt.legend(loc=\"upper left\")"
      ],
      "metadata": {
        "id": "I8ufkp7buBkm"
      },
      "execution_count": null,
      "outputs": []
    },
    {
      "cell_type": "code",
      "source": [
        "x = thetas-theta0\n",
        "f_fft = np.fft.fft(f)\n",
        "u_fft = np.fft.fft(inverse_sigma_fun(f))\n",
        "lambdas = np.array([10e-1,10e-2,10e-3,10e-4,10e-5])\n",
        "\n",
        "\n",
        "fig,axes = plt.subplots(5,1,figsize=(8,12))\n",
        "fig.tight_layout(pad=5.0)\n",
        "w_lambdaZ = []\n",
        "for i in range(len(lambdas)):\n",
        "  w_fft = (u_fft * f_fft)/((lambdas[i]*np.max(np.abs(f_fft))**2)+(np.abs(f_fft))**2)\n",
        "  \n",
        "  w = np.fft.ifft(w_fft)\n",
        "  w_lambdaZ.append(np.fft.fftshift(w))\n",
        "  axes[i].plot(x,np.fft.fftshift(w))\n",
        "  axes[i].set_title(str(lambdas[i])+'*max(abs(f_ft)^2)')\n",
        "  axes[i].set_xticklabels([0,-180,-90,-45,0,45,90,180])\n"
      ],
      "metadata": {
        "id": "lxrllLHreW0L"
      },
      "execution_count": null,
      "outputs": []
    },
    {
      "cell_type": "markdown",
      "source": [
        "ii)"
      ],
      "metadata": {
        "id": "3RMAXupfTkqJ"
      }
    },
    {
      "cell_type": "code",
      "source": [
        "\n",
        "delta_t_over_tau = .01\n",
        "num_iterations = 10000\n",
        "wlambdaZii = w_lambdaZ[2].copy()\n",
        "def sigma_fun(x):\n",
        "  var = 1+np.exp(b*(x+c))\n",
        "  return a*(np.log(var)**beta)\n",
        "\n",
        "u = np.random.normal(0,1,len(w))\n",
        "blah = []\n",
        "for i in range(num_iterations):\n",
        "\n",
        "  f_fft = np.fft.fft(sigma_fun(u))\n",
        "  w_fft = np.fft.fft(wlambdaZii)\n",
        "\n",
        "  u_conv_w = np.fft.ifft(f_fft * w_fft)\n",
        "  u_conv_w = np.fft.fftshift(u_conv_w)\n",
        "  u = ((1-delta_t_over_tau)*u) + (delta_t_over_tau*u_conv_w)\n",
        "  blah.append(u)\n",
        "\n",
        "\n",
        "\n"
      ],
      "metadata": {
        "id": "t8Glpc_dIItH"
      },
      "execution_count": null,
      "outputs": []
    },
    {
      "cell_type": "code",
      "source": [
        "figure,axes = plt.subplots(8,1,figsize=(6,12))\n",
        "for i in np.arange(1,9):\n",
        "  axes[i-1].plot(x,sigma_fun(blah[i*1000]))\n",
        "  axes[i-1].set_ylim([0,40])\n",
        "  axes[i-1].set_xticklabels([0,0,90,135,180,225,270,360])\n",
        "\n",
        "\n"
      ],
      "metadata": {
        "id": "ieARtz_0bFPd"
      },
      "execution_count": null,
      "outputs": []
    },
    {
      "cell_type": "code",
      "source": [
        "from matplotlib.animation import FuncAnimation\n",
        "from IPython.display import HTML\n",
        "import matplotlib\n"
      ],
      "metadata": {
        "id": "_9Am-eqvUcoz"
      },
      "execution_count": null,
      "outputs": []
    },
    {
      "cell_type": "code",
      "source": [
        "!{sys.executable} -m pip install ffmpeg\n",
        "import ffmpeg\n"
      ],
      "metadata": {
        "id": "Dr0yMEkxUdaW"
      },
      "execution_count": null,
      "outputs": []
    },
    {
      "cell_type": "code",
      "source": [
        "blah[0].shape"
      ],
      "metadata": {
        "id": "BDB2gQLnXhd9"
      },
      "execution_count": null,
      "outputs": []
    },
    {
      "cell_type": "code",
      "source": [
        "import warnings\n",
        "warnings.filterwarnings(\"ignore\")\n",
        "\n",
        "%matplotlib notebook\n",
        "\n",
        "plt.rcParams[\"animation.html\"] = \"jshtml\"\n",
        "plt.rcParams['figure.dpi'] = 150  \n",
        "plt.ioff()\n",
        "fig, ax = plt.subplots()\n",
        "ax.set_ylim([0,40])\n",
        "\n",
        "def getImageFromList(x):\n",
        "  \n",
        "    return sigma_fun(blah[x])\n",
        "\n",
        "ims=[]\n",
        "for i in np.arange(1000,5000,50):\n",
        "    im ,= plt.plot(x,getImageFromList(i),'b',animated=True)\n",
        "    ims.append([im])\n",
        "\n",
        "ani = matplotlib.animation.ArtistAnimation(fig, ims, interval=10)\n",
        "plt.title('plot part 2ii')\n",
        "\n",
        "plt.close()\n",
        "\n",
        "\n",
        "# Show the animation\n",
        "HTML(ani.to_html5_video())"
      ],
      "metadata": {
        "id": "SXVC-_86URio"
      },
      "execution_count": null,
      "outputs": []
    },
    {
      "cell_type": "markdown",
      "source": [
        "iii)"
      ],
      "metadata": {
        "id": "aq7eR2si83fQ"
      }
    },
    {
      "cell_type": "code",
      "source": [
        "%matplotlib inline\n",
        "\n",
        "\n",
        "\n",
        "# plt.plot(wlambdaZiii)\n"
      ],
      "metadata": {
        "id": "98SjUKwy8h1k"
      },
      "execution_count": null,
      "outputs": []
    },
    {
      "cell_type": "code",
      "source": [
        "gamma = -.001\n",
        "u = np.random.normal(0,1,len(w))\n",
        "wlambdaZiii = w_lambdaZ[2].copy() \n",
        "iterations = 10000\n",
        "blahderivative=[]\n",
        "for i in range(iterations):\n",
        "\n",
        "  gradientw = np.gradient(wlambdaZiii)\n",
        "  wlambdaZiii += gradientw*gamma\n",
        "\n",
        "  f_fft = np.fft.fft(sigma_fun(u))\n",
        "  w_fft = np.fft.fft(wlambdaZiii)\n",
        "\n",
        "  u_conv_w = np.fft.ifft(f_fft * w_fft)\n",
        "  u_conv_w = np.fft.fftshift(u_conv_w)\n",
        "  u = ((1-delta_t_over_tau)*u) + (delta_t_over_tau*u_conv_w)\n",
        "\n",
        "  blahderivative.append(u)"
      ],
      "metadata": {
        "id": "vNdg0yn4_Veh"
      },
      "execution_count": null,
      "outputs": []
    },
    {
      "cell_type": "code",
      "source": [
        "\n",
        "# plt.plot(sigma_fun(blahderivative[9000]))\n",
        "warnings.filterwarnings(\"ignore\")\n",
        "\n",
        "%matplotlib notebook\n",
        "\n",
        "plt.rcParams[\"animation.html\"] = \"jshtml\"\n",
        "plt.rcParams['figure.dpi'] = 150  \n",
        "plt.ioff()\n",
        "fig, ax = plt.subplots()\n",
        "ax.set_ylim([0,40])\n",
        "\n",
        "def getImageFromList(x):\n",
        "  \n",
        "    return sigma_fun(blahderivative[x])\n",
        "\n",
        "ims=[]\n",
        "for i in np.arange(2000,4000,10):\n",
        "    im ,= plt.plot(x,getImageFromList(i),'b',animated=True)\n",
        "    ims.append([im])\n",
        "\n",
        "ani = matplotlib.animation.ArtistAnimation(fig, ims, interval=10)\n",
        "plt.title('plot part 2iii')\n",
        "\n",
        "plt.close()\n",
        "\n",
        "\n",
        "# Show the animation\n",
        "HTML(ani.to_html5_video())"
      ],
      "metadata": {
        "id": "HiriBICx_YHc"
      },
      "execution_count": null,
      "outputs": []
    },
    {
      "cell_type": "code",
      "source": [
        "%matplotlib inline\n",
        "figure,ax = plt.subplots(1,1,figsize=(6,6))\n",
        "\n",
        "\n",
        "plt.plot(x,sigma_fun(blahderivative[3000]),label='t')\n",
        "plt.plot(x,sigma_fun(blahderivative[3100]),label='t+10')\n",
        "plt.plot(x,sigma_fun(blahderivative[3200]),label='t+20')\n",
        "plt.plot(x,sigma_fun(blahderivative[3300]),label='t+30')\n",
        "ax.set_xticklabels([0,0,90,135,180,225,270,360])\n",
        "\n",
        "plt.legend(loc = \"upper right\")"
      ],
      "metadata": {
        "id": "z_LYVpcur45I"
      },
      "execution_count": null,
      "outputs": []
    },
    {
      "cell_type": "code",
      "source": [],
      "metadata": {
        "id": "mT9lO7XNDrNt"
      },
      "execution_count": null,
      "outputs": []
    }
  ]
}